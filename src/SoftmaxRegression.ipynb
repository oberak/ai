{
  "nbformat": 4,
  "nbformat_minor": 0,
  "metadata": {
    "colab": {
      "name": "SoftmaxRegression.ipynb",
      "provenance": [],
      "collapsed_sections": []
    },
    "kernelspec": {
      "name": "python3",
      "display_name": "Python 3"
    }
  },
  "cells": [
    {
      "cell_type": "markdown",
      "metadata": {
        "id": "5LiOtQ1oLmL9"
      },
      "source": [
        "## Multinomial Logistic Regression"
      ]
    },
    {
      "cell_type": "code",
      "metadata": {
        "id": "XSdowOc3J5ba",
        "colab": {
          "base_uri": "https://localhost:8080/",
          "height": 35
        },
        "outputId": "768cecf3-7501-4b64-d075-f84d963ed7a3"
      },
      "source": [
        "# Importing necessary modules\n",
        "import tensorflow as tf\n",
        "import numpy as np\n",
        "\n",
        "tf.__version__"
      ],
      "execution_count": 120,
      "outputs": [
        {
          "output_type": "execute_result",
          "data": {
            "application/vnd.google.colaboratory.intrinsic+json": {
              "type": "string"
            },
            "text/plain": [
              "'2.3.0'"
            ]
          },
          "metadata": {
            "tags": []
          },
          "execution_count": 120
        }
      ]
    },
    {
      "cell_type": "code",
      "metadata": {
        "id": "T-g1RzpaKXU3"
      },
      "source": [
        "# preparing training data\n",
        "x_train = [[1, 2, 1, 1], [2, 1, 3, 2], [3, 1, 3, 4], [4, 1, 5, 5], [1, 7, 5, 5],\n",
        "           [1, 2, 5, 6], [1, 6, 6, 6], [1, 7, 7, 7]]\n",
        "y_train = [[0, 0, 1], [0, 0, 1], [0, 0, 1], [0, 1, 0], [0, 1, 0],\n",
        "           [0, 1, 0], [1, 0, 0], [1, 0, 0]] # ont hot encoding"
      ],
      "execution_count": 121,
      "outputs": []
    },
    {
      "cell_type": "code",
      "metadata": {
        "id": "3urp_KZPKbAQ"
      },
      "source": [
        "num_features = 4\n",
        "num_classes = 3 # labels\n",
        "\n",
        "# Initializing weights and biases\n",
        "W = tf.Variable(tf.random.normal([num_features, num_classes]), name='weight')\n",
        "b = tf.Variable(tf.random.normal([num_classes]), name='bias')\n",
        "\n",
        "# for cost plot\n",
        "global cost_log\n",
        "cost_log = np.array([])"
      ],
      "execution_count": 122,
      "outputs": []
    },
    {
      "cell_type": "code",
      "metadata": {
        "id": "O_bReinmL_wF"
      },
      "source": [
        "# Hypothesis: Softmax regression H(x) = exp(logis) / reduce_sum(exp(logits, dim))\n",
        "def softmax(X):\n",
        "  linear = tf.matmul(tf.cast(X, dtype=tf.float32), W) + b\n",
        "  return tf.nn.softmax(linear)"
      ],
      "execution_count": 123,
      "outputs": []
    },
    {
      "cell_type": "code",
      "metadata": {
        "id": "guo4cn_xMuHS"
      },
      "source": [
        "# Cost(loss) function: Cross entropy =  - Sum( y*log(H(x)) + (1-y) * log(1 - H(x)) ) / m\n",
        "def cross_entropy(predicted, real):\n",
        "  return -tf.reduce_mean(real * tf.math.log(predicted) + ( 1 - np.array(real)) * tf.math.log(1 - predicted))\n",
        "  #return tf.reduce_mean(-tf.reduce_sum(real * tf.math.log(predicted))) # Same as above"
      ],
      "execution_count": 124,
      "outputs": []
    },
    {
      "cell_type": "code",
      "metadata": {
        "id": "JisIyCy9PAe3"
      },
      "source": [
        "# Optimizer: Gradient descent W = W - a(dy / dW), b = b - a(dy / db)\n",
        "def gd(X, Y, learning_rate):\n",
        "  # get gradient\n",
        "  with tf.GradientTape(persistent=True) as g:\n",
        "    pred = softmax(X)\n",
        "    loss = cross_entropy(pred, Y)\n",
        "\n",
        "  dy_dw = g.gradient(loss, W)\n",
        "  dy_db = g.gradient(loss, b)\n",
        "  #print('loss', loss.numpy())\n",
        " \n",
        "  W.assign_sub(learning_rate * dy_dw)\n",
        "  b.assign_sub(learning_rate * dy_db)\n",
        "  \n",
        "  return loss.numpy()"
      ],
      "execution_count": 125,
      "outputs": []
    },
    {
      "cell_type": "code",
      "metadata": {
        "id": "SVqDR5plP7U6"
      },
      "source": [
        "# training function\n",
        "def train(x, y, learning_rate=0.01, epoch=200):\n",
        "  for i in range(epoch):\n",
        "    loss = gd(x, y, learning_rate)\n",
        "\n",
        "    if (i+1) % 100 == 0:\n",
        "      print ('{} - loss: {}'.format(i+1, loss))\n",
        "    \n",
        "    # for cost plot\n",
        "    global cost_log\n",
        "    cost_log = np.append(cost_log, np.array(loss))"
      ],
      "execution_count": 126,
      "outputs": []
    },
    {
      "cell_type": "code",
      "metadata": {
        "id": "cUtbtvNCP_QC",
        "colab": {
          "base_uri": "https://localhost:8080/"
        },
        "outputId": "f2074f9a-f929-4e2d-b032-29a1f81328b4"
      },
      "source": [
        "# train\n",
        "train(x_train, y_train, 0.02, 5000)\n",
        "print('Model: \\n Weight = {} \\n bias = {}'.format(W.numpy(), b.numpy()[0])) # W=2, b=0"
      ],
      "execution_count": 127,
      "outputs": [
        {
          "output_type": "stream",
          "text": [
            "100 - loss: 0.7824332118034363\n",
            "200 - loss: 0.5368564128875732\n",
            "300 - loss: 0.4818345010280609\n",
            "400 - loss: 0.4484436511993408\n",
            "500 - loss: 0.4251505434513092\n",
            "600 - loss: 0.4076787531375885\n",
            "700 - loss: 0.3938847482204437\n",
            "800 - loss: 0.38257601857185364\n",
            "900 - loss: 0.37302908301353455\n",
            "1000 - loss: 0.3647761344909668\n",
            "1100 - loss: 0.3575010299682617\n",
            "1200 - loss: 0.3509824275970459\n",
            "1300 - loss: 0.34506139159202576\n",
            "1400 - loss: 0.339620441198349\n",
            "1500 - loss: 0.3345714509487152\n",
            "1600 - loss: 0.32984694838523865\n",
            "1700 - loss: 0.32539424300193787\n",
            "1800 - loss: 0.3211718499660492\n",
            "1900 - loss: 0.3171467185020447\n",
            "2000 - loss: 0.31329214572906494\n",
            "2100 - loss: 0.30958637595176697\n",
            "2200 - loss: 0.3060115873813629\n",
            "2300 - loss: 0.30255308747291565\n",
            "2400 - loss: 0.2991986870765686\n",
            "2500 - loss: 0.2959381937980652\n",
            "2600 - loss: 0.2927631139755249\n",
            "2700 - loss: 0.28966620564460754\n",
            "2800 - loss: 0.28664153814315796\n",
            "2900 - loss: 0.28368380665779114\n",
            "3000 - loss: 0.2807885706424713\n",
            "3100 - loss: 0.2779522240161896\n",
            "3200 - loss: 0.2751714885234833\n",
            "3300 - loss: 0.2724432647228241\n",
            "3400 - loss: 0.2697654068470001\n",
            "3500 - loss: 0.2671356201171875\n",
            "3600 - loss: 0.26455196738243103\n",
            "3700 - loss: 0.2620128095149994\n",
            "3800 - loss: 0.25951653718948364\n",
            "3900 - loss: 0.25706183910369873\n",
            "4000 - loss: 0.2546473443508148\n",
            "4100 - loss: 0.25227200984954834\n",
            "4200 - loss: 0.24993467330932617\n",
            "4300 - loss: 0.24763435125350952\n",
            "4400 - loss: 0.24537019431591034\n",
            "4500 - loss: 0.24314133822917938\n",
            "4600 - loss: 0.24094682931900024\n",
            "4700 - loss: 0.23878592252731323\n",
            "4800 - loss: 0.23665805160999298\n",
            "4900 - loss: 0.23456227779388428\n",
            "5000 - loss: 0.23249804973602295\n",
            "Model: \n",
            " Weight = [[-2.9199505  -0.14255123  1.8492973 ]\n",
            " [-0.91367906 -1.1574793  -0.34161556]\n",
            " [ 1.4634693   0.96567136 -0.16481668]\n",
            " [ 0.16790538  0.17302525 -1.26705   ]] \n",
            " bias = -1.8974506855010986\n"
          ],
          "name": "stdout"
        }
      ]
    },
    {
      "cell_type": "code",
      "metadata": {
        "id": "gRyvHQNJoiL5",
        "colab": {
          "base_uri": "https://localhost:8080/"
        },
        "outputId": "be361e2c-ed20-462f-e7d4-2256e305c261"
      },
      "source": [
        "# check prediction and accuracy\n",
        "hypothesis = softmax(x_train)\n",
        "pred = tf.math.argmax(hypothesis, 1)\n",
        "real = tf.math.argmax(y_train, 1)\n",
        "\n",
        "accuracy = tf.reduce_mean(tf.cast(tf.equal(pred, real), tf.float32))\n",
        "print('Hypothesis:', hypothesis.numpy())\n",
        "print('Real:', real.numpy())\n",
        "print('Pred:', pred.numpy())\n",
        "print('Accuracy: {}%'.format(accuracy.numpy()*100))"
      ],
      "execution_count": 131,
      "outputs": [
        {
          "output_type": "stream",
          "text": [
            "Hypothesis: [[7.3791243e-04 1.4791290e-02 9.8447084e-01]\n",
            " [1.0335774e-03 1.5786140e-01 8.4110504e-01]\n",
            " [1.2627798e-04 3.1326893e-01 6.8660480e-01]\n",
            " [4.8331181e-05 7.1592468e-01 2.8402704e-01]\n",
            " [5.1634312e-01 4.2625031e-01 5.7406552e-02]\n",
            " [2.6251921e-01 7.3708290e-01 3.9789703e-04]\n",
            " [6.0732377e-01 3.9089528e-01 1.7809436e-03]\n",
            " [7.6428431e-01 2.3553011e-01 1.8560095e-04]]\n",
            "Real: [2 2 2 1 1 1 0 0]\n",
            "Pred: [2 2 2 1 0 1 0 0]\n",
            "Accuracy: 87.5%\n"
          ],
          "name": "stdout"
        }
      ]
    },
    {
      "cell_type": "code",
      "metadata": {
        "id": "cgvhvOt1SAR4",
        "colab": {
          "base_uri": "https://localhost:8080/",
          "height": 279
        },
        "outputId": "64450661-d358-47dd-9312-0aa21510bc5b"
      },
      "source": [
        "import matplotlib.pyplot as plt\n",
        "\n",
        "# cost logs\n",
        "plt.plot(range(len(cost_log)), cost_log)\n",
        "plt.xlabel('Epoch')\n",
        "plt.grid(True)\n",
        "plt.ylabel('Cost(loss)')\n",
        "plt.show()"
      ],
      "execution_count": 129,
      "outputs": [
        {
          "output_type": "display_data",
          "data": {
            "image/png": "[encoded data removed]",
            "text/plain": [
              "<Figure size 432x288 with 1 Axes>"
            ]
          },
          "metadata": {
            "tags": [],
            "needs_background": "light"
          }
        }
      ]
    }
  ]
}
