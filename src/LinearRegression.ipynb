{
 "cells": [
  {
   "cell_type": "markdown",
   "metadata": {},
   "source": [
    "### Simple Linear Regression\n",
    "\n",
    "- APIs: TensorFlow 2.3.0\n",
    "  + [tf.math.reduce_mean()](https://www.tensorflow.org/api_docs/python/tf/math/reduce_mean)\n",
    "  + [tf.math.square()](https://www.tensorflow.org/api_docs/python/tf/math/square)\n",
    "  + [GradientDescentOptimizer](https://www.tensorflow.org/api_docs/python/tf/compat/v1/train/GradientDescentOptimizer)"
   ]
  },
  {
   "cell_type": "code",
   "execution_count": 17,
   "metadata": {},
   "outputs": [],
   "source": [
    "import tensorflow as tf\n",
    "\n",
    "# Declear X and Y data\n",
    "x_trains = [1,2,3,4] # input\n",
    "y_trains = [2,4,6,8] # output\n",
    "\n",
    "# Declear variable and set initial value for TensorFlow(TF)\n",
    "W = tf.Variable(tf.random.normal([1]), name='weight')\n",
    "b = tf.Variable(tf.random.normal([1]), name='bias')\n",
    "\n",
    "# Hypothesis function: XW + b\n",
    "def hyphothesis(W, b, x_trains): \n",
    "    return b + W * x_trains \n",
    "\n",
    "# Cost/loss function: mean of square( H(x) + b )\n",
    "def cost(W, b, y_trains, x_trains): \n",
    "    predictions = hyphothesis(W, b, x_trains)\n",
    "    return tf.math.reduce_mean( tf.math.square(predictions - y_trains) )"
   ]
  },
  {
   "cell_type": "code",
   "execution_count": 18,
   "metadata": {
    "scrolled": false
   },
   "outputs": [
    {
     "name": "stdout",
     "output_type": "stream",
     "text": [
      "Initial values: W=-1.068763, b=1.279995\n",
      "0, cost=36.735027, W=-0.672448, b=1.407833\n",
      "300, cost=0.119160, W=1.712707, b=0.844676\n",
      "600, cost=0.019716, W=1.883139, b=0.343586\n",
      "900, cost=0.003262, W=1.952465, b=0.139759\n",
      "1200, cost=0.000540, W=1.980664, b=0.056849\n",
      "1500, cost=0.000089, W=1.992135, b=0.023124\n",
      "1800, cost=0.000015, W=1.996801, b=0.009406\n",
      "2100, cost=0.000002, W=1.998698, b=0.003826\n",
      "2400, cost=0.000000, W=1.999470, b=0.001557\n",
      "2700, cost=0.000000, W=1.999784, b=0.000634\n",
      "3000, cost=0.000000, W=1.999912, b=0.000259\n",
      "3300, cost=0.000000, W=1.999964, b=0.000106\n",
      "3600, cost=0.000000, W=1.999985, b=0.000043\n",
      "3900, cost=0.000000, W=1.999993, b=0.000019\n",
      "4200, cost=0.000000, W=1.999996, b=0.000010\n",
      "4500, cost=0.000000, W=1.999997, b=0.000007\n",
      "4800, cost=0.000000, W=1.999998, b=0.000006\n",
      "Prediction: y = 1.999998x + 0.000006\n"
     ]
    }
   ],
   "source": [
    "# Minimize cost/loss using gradient descent\n",
    "optimizer = tf.keras.optimizers.SGD(learning_rate=0.01)\n",
    "\n",
    "# Fit the line\n",
    "print('Initial values: W={:f}, b={:f}'.format(W.numpy()[0], b.numpy()[0]))\n",
    "for step in range(5001):\n",
    "    optimizer.minimize(lambda: cost(W, b, y_trains, x_trains), var_list=[W, b])\n",
    "    if step % 300 == 0:\n",
    "        print('{}, cost={:f}, W={:f}, b={:f}'.format(step, cost(W, b, y_trains, x_trains).numpy(), W.numpy()[0], b.numpy()[0]))\n",
    "\n",
    "print('Prediction: y = {:f}x + {:f}'.format(W.numpy()[0], b.numpy()[0]))"
   ]
  },
  {
   "cell_type": "markdown",
   "metadata": {},
   "source": [
    "### Gradient descent progress\n",
    "\n",
    "![Gradient descent](https://bs-uploads.toptal.io/blackfish-uploads/uploaded_file/file/238279/image-1587548990037-a9dc244b868173eb48df437eedc72910.gif)"
   ]
  },
  {
   "cell_type": "code",
   "execution_count": 16,
   "metadata": {},
   "outputs": [
    {
     "name": "stdout",
     "output_type": "stream",
     "text": [
      "[[1. 1.]\n",
      " [1. 1.]] [0. 0.]\n",
      "tf.Tensor(\n",
      "[[1. 0.]\n",
      " [1. 0.]], shape=(2, 2), dtype=float32)\n"
     ]
    }
   ],
   "source": [
    "W = tf.Variable(tf.ones(shape=(2,2)), name=\"W\")\n",
    "b = tf.Variable(tf.zeros(shape=(2)), name=\"b\")\n",
    "print(W.numpy(), b.numpy())\n",
    "\n",
    "@tf.function\n",
    "def forward(x):\n",
    "  return W * x + b\n",
    "\n",
    "out_a = forward([1,0])\n",
    "print(out_a)"
   ]
  },
  {
   "cell_type": "code",
   "execution_count": null,
   "metadata": {},
   "outputs": [],
   "source": []
  }
 ],
 "metadata": {
  "kernelspec": {
   "display_name": "Python 3",
   "language": "python",
   "name": "python3"
  },
  "language_info": {
   "codemirror_mode": {
    "name": "ipython",
    "version": 3
   },
   "file_extension": ".py",
   "mimetype": "text/x-python",
   "name": "python",
   "nbconvert_exporter": "python",
   "pygments_lexer": "ipython3",
   "version": "3.7.9"
  }
 },
 "nbformat": 4,
 "nbformat_minor": 4
}
